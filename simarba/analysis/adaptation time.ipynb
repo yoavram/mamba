{
 "metadata": {
  "name": "",
  "signature": "sha256:ced2efa083af1b31b91296fc9712c6290b05323c555d66e148612c014a04e56d"
 },
 "nbformat": 3,
 "nbformat_minor": 0,
 "worksheets": [
  {
   "cells": [
    {
     "cell_type": "markdown",
     "metadata": {},
     "source": [
      "# Adaptation time theory\n",
      "\n",
      "I will try to develop the adaptation time of SIM."
     ]
    },
    {
     "cell_type": "markdown",
     "metadata": {},
     "source": [
      "## Single mutation\n",
      "\n",
      "### CM"
     ]
    },
    {
     "cell_type": "markdown",
     "metadata": {},
     "source": [
      "### Appearance time\n",
      "\n",
      "- $\\mu$ - genomic mutation rate\n",
      "- $\\beta$ - fraction of beneficial mutations\n",
      "- $s$ - selection coefficient\n",
      "- $\\tau$ - mutation rate increase\n",
      "- $g$ - number of loci in genome\n",
      "- $q$ - waiting time for apperance of single beneficial allele\n",
      "\n",
      "$$\n",
      "q = e^{-\\tau \\mu / s} \\beta \\tau \\mu e^{-\\tau \\mu} / g\n",
      "$$\n",
      "\n",
      "is the probability that an unloaded individual generates a single, beneficial mutation.\n",
      "\n",
      "The appearance rate is then $Nq+o((Nq)^2)$ where $N$ is the population size. \n",
      "So the waiting time can be approximated by $1/Nq$ isf $Nq<<1$."
     ]
    },
    {
     "cell_type": "markdown",
     "metadata": {},
     "source": [
      "#### Fixation probability\n",
      "\n",
      "In a smaller population, this is [@Kimura1962]:\n",
      "$$\n",
      "\\rho = \\frac{1-e^{-2Nsx}}{1-e^{-2Ns}}\n",
      "$$\n",
      "where $x$ is the initial frequency of the beneficial allele.\n",
      "\n",
      "When the beneficial allele starts with a single copy we have\n",
      "$$\n",
      "\\rho = \\frac{1-e^{-2s}}{1-e^{-2Ns}}\n",
      "$$\n",
      "\n",
      "In a large population, this is roughly $\\rho = \\frac{2s}{1+s}+o(s) \\approx 2s$ [@Eshel1981]."
     ]
    },
    {
     "cell_type": "code",
     "collapsed": false,
     "input": [],
     "language": "python",
     "metadata": {},
     "outputs": []
    }
   ],
   "metadata": {}
  }
 ]
}