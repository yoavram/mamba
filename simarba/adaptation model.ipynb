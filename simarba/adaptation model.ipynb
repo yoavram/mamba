{
 "metadata": {
  "name": "",
  "signature": "sha256:c2f25a9c18fbf2c1f19e8539bc3889d717ef323dd0b382d2ca4ee862ca26d781"
 },
 "nbformat": 3,
 "nbformat_minor": 0,
 "worksheets": [
  {
   "cells": [
    {
     "cell_type": "code",
     "collapsed": false,
     "input": [
      "from scipy import stats\n",
      "np.set_printoptions(precision=3)"
     ],
     "language": "python",
     "metadata": {},
     "outputs": [],
     "prompt_number": 1
    },
    {
     "cell_type": "markdown",
     "metadata": {},
     "source": [
      "Generationsto reach 0.1% away from MSB:\n",
      "$$\n",
      "\\lambda_g = \\frac{U}{s}\\Big(1 - (1-s)^g\\Big) \\Rightarrow\n",
      "0.001 = (1-s)^g \\Rightarrow\n",
      "g = \\frac{log(0.001)}{log(1-s)}\n",
      "$$"
     ]
    },
    {
     "cell_type": "code",
     "collapsed": false,
     "input": [
      "G=10\n",
      "U=0.0004\n",
      "s=0.1\n",
      "N=1e5\n",
      "beta=1/5000.\n",
      "r=0.\n",
      "assert r == 0, \"Recombination not implemented\"\n",
      "\n",
      "## del mut matrix\n",
      "dM = zeros((G,G))\n",
      "for j in range(G):\n",
      "    v = stats.poisson(U).pmf(j)\n",
      "    dM += diag([v]*(G-j), -j)\n",
      "dM[-1,:] += (1 - dM.sum(axis=0))\n",
      "assert allclose(1, dM.sum(axis=0)), \"All columns must sum to one\"\n",
      "\n",
      "## ben mut matrix\n",
      "bM = zeros((G,G))\n",
      "for j in range(G):\n",
      "    v = stats.poisson(beta*U).pmf(j)\n",
      "    bM += diag([v]*(G-j), j)\n",
      "bM[0,:] += (1 - bM.sum(axis=0))\n",
      "assert allclose(1, bM.sum(axis=0)), \"All columns must sum to one\"\n",
      "\n",
      "## selection matrix\n",
      "S = diag((1 - s)**arange(G))\n",
      "assert (S * (ones((G,G)) - eye(G)) == 0).all(), \"Non main diagonal elements must be zeros\"\n",
      "\n",
      "def evolve(p, stop):\n",
      "    t = 0\n",
      "    while stop(t,p):\n",
      "        p = S.dot(p)\n",
      "        p = dM.dot(p)\n",
      "        p = bM.dot(p)\n",
      "        p /= p.sum()\n",
      "\n",
      "        if N > 0:\n",
      "            p = multinomial(N, p) / float(N)\n",
      "        assert allclose(p.sum(), 1), \"frequencies vector must sum to one\"\n",
      "        t += 1\n",
      "    return t,p\n",
      "\n",
      "## initialize \n",
      "MSB_ticks = int(log(0.001) / log(1 - s)) * 2\n",
      "p = zeros(G)\n",
      "p[0] = 1.\n",
      "print \"Initial population\", p\n",
      "\n",
      "## MSB\n",
      "t,p = evolve(p, lambda t,p: t < MSB_ticks)\n",
      "    \n",
      "print \"MSB population     \", p\n",
      "print \"Expected population\", stats.poisson(U/s).pmf(arange(G))\n",
      "print \"MSB time:\", t"
     ],
     "language": "python",
     "metadata": {},
     "outputs": [
      {
       "output_type": "stream",
       "stream": "stdout",
       "text": [
        "Initial population [ 1.  0.  0.  0.  0.  0.  0.  0.  0.  0.]\n",
        "MSB population      [  9.957e-01   4.320e-03   1.000e-05   0.000e+00   0.000e+00   0.000e+00\n",
        "   0.000e+00   0.000e+00   0.000e+00   0.000e+00]\n",
        "Expected population [  9.960e-01   3.984e-03   7.968e-06   1.062e-08   1.062e-11   8.499e-15\n",
        "   5.666e-18   3.238e-21   1.619e-24   7.195e-28]\n",
        "MSB time: 130\n"
       ]
      }
     ],
     "prompt_number": 46
    },
    {
     "cell_type": "code",
     "collapsed": false,
     "input": [
      "## change environment\n",
      "p[1:] = p[:-1]\n",
      "p[0] = 0\n",
      "print \"Initial population\", p\n",
      "\n",
      "## Wait for beneficial mutation\n",
      "t,p = evolve(p, lambda t,p: p[0] == 0)\n",
      "print \"Population at appearance\", p\n",
      "print \"Mutant count\", p[0]*N\n",
      "print \"Appearance time:\", t"
     ],
     "language": "python",
     "metadata": {},
     "outputs": [
      {
       "output_type": "stream",
       "stream": "stdout",
       "text": [
        "Initial population [  0.000e+00   0.000e+00   9.957e-01   4.270e-03   1.000e-05   0.000e+00\n",
        "   0.000e+00   0.000e+00   0.000e+00   0.000e+00]\n",
        "Population at appearance"
       ]
      },
      {
       "output_type": "stream",
       "stream": "stdout",
       "text": [
        " [  1.000e-05   9.958e-01   4.200e-03   3.000e-05   0.000e+00   0.000e+00\n",
        "   0.000e+00   0.000e+00   0.000e+00   0.000e+00]\n",
        "Mutant count 1.0\n",
        "Appearance time: 1791\n"
       ]
      }
     ],
     "prompt_number": 75
    },
    {
     "cell_type": "code",
     "collapsed": false,
     "input": [
      "## fixation or extinction of mutant\n",
      "pfix = 0.5\n",
      "t,p = evolve(p, lambda t,p: 0 < p[0] < pfix)\n",
      "print \"Mutant survived:\", p[0] > 0\n",
      "print \"Adapted population\", p\n",
      "print \"Fixation time:\", t"
     ],
     "language": "python",
     "metadata": {},
     "outputs": [
      {
       "output_type": "stream",
       "stream": "stdout",
       "text": [
        "Mutant survived: True\n",
        "Adapted population [ 0.51   0.488  0.002  0.     0.     0.     0.     0.     0.     0.   ]\n",
        "Fixation time: 102\n"
       ]
      }
     ],
     "prompt_number": 76
    },
    {
     "cell_type": "code",
     "collapsed": false,
     "input": [],
     "language": "python",
     "metadata": {},
     "outputs": []
    }
   ],
   "metadata": {}
  }
 ]
}