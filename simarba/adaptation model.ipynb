{
 "metadata": {
  "name": "",
  "signature": "sha256:c228a92c9657d6bdbc716c4c690425a5e94cf3a208eb2e2c94e359b06c42bea2"
 },
 "nbformat": 3,
 "nbformat_minor": 0,
 "worksheets": [
  {
   "cells": [
    {
     "cell_type": "code",
     "collapsed": false,
     "input": [
      "from scipy import stats\n",
      "np.set_printoptions(precision=3)"
     ],
     "language": "python",
     "metadata": {},
     "outputs": [],
     "prompt_number": 19
    },
    {
     "cell_type": "code",
     "collapsed": false,
     "input": [
      "G=10\n",
      "U=0.003\n",
      "s=0.1\n",
      "N=1e6\n",
      "beta=1/5000.\n",
      "r=0.\n",
      "assert r == 0, \"Recombination not implemented\"\n",
      "\n",
      "## del mut matrix\n",
      "dM = zeros((G,G))\n",
      "for j in range(G):\n",
      "    v = stats.poisson(U).pmf(j)\n",
      "    dM += diag([v]*(G-j), -j)\n",
      "dM[-1,:] += (1 - dM.sum(axis=0))\n",
      "assert allclose(1, dM.sum(axis=0)), \"All columns must sum to one\"\n",
      "\n",
      "## ben mut matrix\n",
      "bM = zeros((G,G))\n",
      "for j in range(G):\n",
      "    v = stats.poisson(beta*U).pmf(j)\n",
      "    bM += diag([v]*(G-j), j)\n",
      "bM[0,:] += (1 - bM.sum(axis=0))\n",
      "assert allclose(1, bM.sum(axis=0)), \"All columns must sum to one\"\n",
      "\n",
      "## selection matrix\n",
      "S = diag((1 - s)**arange(G))\n",
      "assert (S * (ones((G,G)) - eye(G)) == 0).all(), \"Non main diagonal elements must be zeros\"\n",
      "## initialize \n",
      "ticks = 1000\n",
      "p = zeros(G)\n",
      "p[0] = 1.\n",
      "print \"Initial population\", p\n",
      "\n",
      "## run\n",
      "for t in range(ticks):\n",
      "\n",
      "    p = S.dot(p)\n",
      "    p = dM.dot(p)\n",
      "    p = bM.dot(p)\n",
      "    p /= p.sum()\n",
      "    \n",
      "    if N > 0:\n",
      "        p = multinomial(N, p) / float(N)\n",
      "    assert allclose(p.sum(), 1), \"frequencies vector must sum to one\"\n",
      "    \n",
      "print \"Final population\", p\n",
      "print \"Expected        \", stats.poisson(U/s).pmf(arange(G))"
     ],
     "language": "python",
     "metadata": {},
     "outputs": [
      {
       "output_type": "stream",
       "stream": "stdout",
       "text": [
        "Initial population [ 1.  0.  0.  0.  0.  0.  0.  0.  0.  0.]\n",
        "Final population"
       ]
      },
      {
       "output_type": "stream",
       "stream": "stdout",
       "text": [
        " [  9.701e-01   2.953e-02   3.880e-04   9.000e-06   0.000e+00   0.000e+00\n",
        "   0.000e+00   0.000e+00   0.000e+00   0.000e+00]\n",
        "Expected         [  9.704e-01   2.911e-02   4.367e-04   4.367e-06   3.275e-08   1.965e-10\n",
        "   9.826e-13   4.211e-15   1.579e-17   5.264e-20]\n"
       ]
      }
     ],
     "prompt_number": 107
    },
    {
     "cell_type": "code",
     "collapsed": false,
     "input": [
      "stats.poisson(U/s).pmf(j)"
     ],
     "language": "python",
     "metadata": {},
     "outputs": [
      {
       "metadata": {},
       "output_type": "pyout",
       "prompt_number": 102,
       "text": [
        "3.2752536757262106e-08"
       ]
      }
     ],
     "prompt_number": 102
    },
    {
     "cell_type": "code",
     "collapsed": false,
     "input": [],
     "language": "python",
     "metadata": {},
     "outputs": []
    }
   ],
   "metadata": {}
  }
 ]
}