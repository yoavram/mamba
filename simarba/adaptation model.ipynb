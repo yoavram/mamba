{
 "metadata": {
  "name": "",
  "signature": "sha256:c0c1d5899987487e42f3ffc6a8a559a3be3f89dfa059e0388dab80bd3e150a02"
 },
 "nbformat": 3,
 "nbformat_minor": 0,
 "worksheets": [
  {
   "cells": [
    {
     "cell_type": "code",
     "collapsed": false,
     "input": [
      "from scipy import stats\n",
      "np.set_printoptions(precision=3)\n",
      "%load_ext ipycache"
     ],
     "language": "python",
     "metadata": {},
     "outputs": [],
     "prompt_number": 9
    },
    {
     "cell_type": "markdown",
     "metadata": {},
     "source": [
      "## Infrastructure and testing"
     ]
    },
    {
     "cell_type": "code",
     "collapsed": false,
     "input": [
      "G=10\n",
      "U=0.0004\n",
      "s=0.1\n",
      "N=1e6\n",
      "beta=1/50000.\n",
      "r=0.\n",
      "assert r == 0, \"Recombination not implemented\""
     ],
     "language": "python",
     "metadata": {},
     "outputs": [],
     "prompt_number": 3
    },
    {
     "cell_type": "code",
     "collapsed": false,
     "input": [
      "def del_mut_mat(U,G):\n",
      "    '''del mut matrix'''\n",
      "    dM = zeros((G,G))\n",
      "    for j in range(G):\n",
      "        v = stats.poisson(U).pmf(j)\n",
      "        dM += diag([v]*(G-j), -j)\n",
      "    dM[-1,:] += (1 - dM.sum(axis=0))\n",
      "    assert allclose(1, dM.sum(axis=0)), \"All columns must sum to one\"\n",
      "    return dM\n",
      "dM = del_mut_mat(U,G)\n",
      "\n",
      "def ben_mut_mat(beta,U,G):\n",
      "    '''ben mut matrix'''\n",
      "    bM = zeros((G,G))\n",
      "    for j in range(G):\n",
      "        v = stats.poisson(beta*U).pmf(j)\n",
      "        bM += diag([v]*(G-j), j)\n",
      "    bM[0,:] += (1 - bM.sum(axis=0))\n",
      "    assert allclose(1, bM.sum(axis=0)), \"All columns must sum to one\"\n",
      "    return bM\n",
      "bM = ben_mut_mat(beta,U,G)\n",
      "\n",
      "def sel_mat(s,G):\n",
      "    '''selection matrix'''\n",
      "    w = (1 - s)**arange(G)\n",
      "    S = diag(w)\n",
      "    assert (S * (ones((G,G)) - eye(G)) == 0).all(), \"Non main diagonal elements must be zeros\"\n",
      "    return S\n",
      "S = sel_mat(s,G)"
     ],
     "language": "python",
     "metadata": {},
     "outputs": [],
     "prompt_number": 4
    },
    {
     "cell_type": "code",
     "collapsed": false,
     "input": [
      "def evolve(t, p, condition, S, dM, bM, verbose=True):\n",
      "    if verbose:\n",
      "        W = [S.dot(p).sum()]\n",
      "        P = [p.copy()]\n",
      "    while condition(t,p):\n",
      "        p[:] = S.dot(p)\n",
      "        p[:] = dM.dot(p)\n",
      "        p[:] = bM.dot(p)\n",
      "        p[:] /= p.sum()\n",
      "\n",
      "        if N > 0:\n",
      "            p[:] = multinomial(N, p) / float(N)\n",
      "        assert allclose(p.sum(), 1), \"frequencies vector must sum to one\"\n",
      "        t += 1\n",
      "        if verbose:\n",
      "            W.append(S.dot(p).sum())\n",
      "            P.append(p.copy())\n",
      "    if verbose:\n",
      "        return t,P,W\n",
      "    else:\n",
      "        return t,p"
     ],
     "language": "python",
     "metadata": {},
     "outputs": [],
     "prompt_number": 5
    },
    {
     "cell_type": "markdown",
     "metadata": {},
     "source": [
      "Generationsto reach 0.1% away from MSB:\n",
      "$$\n",
      "\\lambda_g = \\frac{U}{s}\\Big(1 - (1-s)^g\\Big) \\Rightarrow\n",
      "0.001 = (1-s)^g \\Rightarrow\n",
      "g = \\frac{log(0.001)}{log(1-s)}\n",
      "$$"
     ]
    },
    {
     "cell_type": "code",
     "collapsed": false,
     "input": [
      "## initialize \n",
      "MSB_ticks = int(log(0.001) / log(1 - s)) * 5\n",
      "p = zeros(G)\n",
      "p[0] = 1.\n",
      "print \"Initial population\", p\n",
      "\n",
      "## MSB\n",
      "t,P,W = evolve(0, p, lambda t,p: t < MSB_ticks, S, dM, bM)\n",
      "\n",
      "print \"MSB population     \", P[-1]\n",
      "print \"Expected population\", stats.poisson(U/s).pmf(arange(G))\n",
      "print \"MSB time:\", t\n",
      "plot(range(len(W)), W, 'k')\n",
      "axhline(y=exp(-U), color='k', ls='--')\n",
      "xlabel('t')\n",
      "ylabel(r'$\\bar{\\omega}$');"
     ],
     "language": "python",
     "metadata": {},
     "outputs": [
      {
       "output_type": "stream",
       "stream": "stdout",
       "text": [
        "Initial population [ 1.  0.  0.  0.  0.  0.  0.  0.  0.  0.]\n",
        "MSB population      [  9.959e-01   4.111e-03   5.000e-06   0.000e+00   0.000e+00   0.000e+00\n",
        "   0.000e+00   0.000e+00   0.000e+00   0.000e+00]\n",
        "Expected population [  9.960e-01   3.984e-03   7.968e-06   1.062e-08   1.062e-11   8.499e-15\n",
        "   5.666e-18   3.238e-21   1.619e-24   7.195e-28]\n",
        "MSB time: 325\n"
       ]
      },
      {
       "metadata": {},
       "output_type": "display_data",
       "png": "[encoded data removed]",
       "text": [
        "<matplotlib.figure.Figure at 0x2e7bd10>"
       ]
      }
     ],
     "prompt_number": 5
    },
    {
     "cell_type": "code",
     "collapsed": false,
     "input": [
      "## change environment\n",
      "p = P[-1]\n",
      "p[1:] = p[:-1]\n",
      "p[0] = 0\n",
      "print \"Initial population\", p"
     ],
     "language": "python",
     "metadata": {},
     "outputs": [
      {
       "output_type": "stream",
       "stream": "stdout",
       "text": [
        "Initial population [  0.000e+00   9.962e-01   3.745e-03   1.600e-05   0.000e+00   0.000e+00\n",
        "   0.000e+00   0.000e+00   0.000e+00   0.000e+00]\n"
       ]
      }
     ],
     "prompt_number": 15
    },
    {
     "cell_type": "code",
     "collapsed": false,
     "input": [
      "## Wait for beneficial mutation\n",
      "t0 = t\n",
      "t,P,W = evolve(t0, p, lambda t,p: p[0] == 0, S, dM, bM)\n",
      "print \"Population at appearance\", P[-1]\n",
      "print \"Mutant count\", P[-1][0]*N\n",
      "print \"Appearance time:\", t-t0"
     ],
     "language": "python",
     "metadata": {},
     "outputs": [
      {
       "output_type": "stream",
       "stream": "stdout",
       "text": [
        "Population at appearance [  1.000e-06   9.959e-01   4.098e-03   4.000e-06   0.000e+00   0.000e+00\n",
        "   0.000e+00   0.000e+00   0.000e+00   0.000e+00]\n",
        "Mutant count 1.0\n",
        "Appearance time: 0\n"
       ]
      }
     ],
     "prompt_number": 36
    },
    {
     "cell_type": "code",
     "collapsed": false,
     "input": [
      "## fixation or extinction of mutant\n",
      "pfix = exp(-U/s)\n",
      "t0 = t\n",
      "p = P[-1]\n",
      "t,P,W = evolve(t0, p, lambda t,p: 0 < p[0] < pfix, S, dM, bM)\n",
      "print \"Mutant survived:\", P[-1][0] > 0\n",
      "print \"Adapted population\", P[-1]\n",
      "print \"Elapsed time:\", t-t0\n",
      "plot(range(len(W)), W, 'k')\n",
      "ylim(0.8,1.01)\n",
      "xlabel('t')\n",
      "ylabel(r'$\\bar{\\omega}$');"
     ],
     "language": "python",
     "metadata": {},
     "outputs": [
      {
       "output_type": "stream",
       "stream": "stdout",
       "text": [
        "Mutant survived: True\n",
        "Adapted population [  9.960e-01   3.968e-03   1.100e-05   0.000e+00   0.000e+00   0.000e+00\n",
        "   0.000e+00   0.000e+00   0.000e+00   0.000e+00]\n",
        "Elapsed time: 202\n"
       ]
      },
      {
       "metadata": {},
       "output_type": "display_data",
       "png": "[encoded data removed]",
       "text": [
        "<matplotlib.figure.Figure at 0x3d9e410>"
       ]
      }
     ],
     "prompt_number": 37
    },
    {
     "cell_type": "code",
     "collapsed": false,
     "input": [
      "fig, (ax1,ax2) = subplots(1,2, figsize=(10,4))\n",
      "p0 = array(P)[:,0]\n",
      "ax1.plot(range(len(p0)), p0, 'k')\n",
      "ax2.plot(range(len(p0)), gradient(p0), 'k--')\n",
      "ax1.set_xlabel('t')\n",
      "ax2.set_xlabel('t')\n",
      "ax1.set_ylabel('p0')\n",
      "ax2.set_ylabel('dp0/dt')\n",
      "fig.tight_layout();"
     ],
     "language": "python",
     "metadata": {},
     "outputs": [
      {
       "metadata": {},
       "output_type": "display_data",
       "png": "[encoded data removed]",
       "text": [
        "<matplotlib.figure.Figure at 0x3d9bfd0>"
       ]
      }
     ],
     "prompt_number": 38
    },
    {
     "cell_type": "code",
     "collapsed": false,
     "input": [
      "fig, (ax1,ax2) = subplots(1,2, figsize=(10,4))\n",
      "ax1.plot(range(len(p0)),log( p0/(1-p0) ), 'k')\n",
      "ax2.plot(range(len(p0)), gradient(log( p0/(1-p0) )), 'k--')\n",
      "ax1.set_xlabel('t')\n",
      "ax2.set_xlabel('t')\n",
      "ax1.set_ylabel('log p/(1-p)')\n",
      "ax2.set_ylabel('s')\n",
      "fig.tight_layout();"
     ],
     "language": "python",
     "metadata": {},
     "outputs": [
      {
       "metadata": {},
       "output_type": "display_data",
       "png": "[encoded data removed]",
       "text": [
        "<matplotlib.figure.Figure at 0x3e03ed0>"
       ]
      }
     ],
     "prompt_number": 39
    },
    {
     "cell_type": "code",
     "collapsed": false,
     "input": [
      "from IPython.parallel import Client\n",
      "rc = Client()\n",
      "pool = rc.direct_view()\n",
      "with pool.sync_imports():\n",
      "    from scipy import stats\n",
      "    from numpy import zeros, diag, allclose, arange, ones, eye, log, exp\n",
      "    from numpy.random import multinomial\n",
      "pool['del_mut_mat'] = del_mut_mat\n",
      "pool['ben_mut_mat'] = ben_mut_mat\n",
      "pool['sel_mat']     = sel_mat\n",
      "pool['evolve']      = evolve"
     ],
     "language": "python",
     "metadata": {},
     "outputs": [
      {
       "output_type": "stream",
       "stream": "stdout",
       "text": [
        "importing stats from scipy on engine(s)\n",
        "importing zeros,diag,allclose,arange,ones,eye,log,exp from numpy on engine(s)\n",
        "importing multinomial from numpy.random on engine(s)\n"
       ]
      }
     ],
     "prompt_number": 11
    },
    {
     "cell_type": "markdown",
     "metadata": {},
     "source": [
      "## Waiting time\n",
      "$q$ is the probability that a single individual the next generation is a mutant:\n",
      "$$\n",
      "q = \\sum_{k=0}^{\\infty}{\\frac{(U/s)^k e^{-U/s}}{k!} \\cdot \\frac{(\\beta U)^{k+1} e^{-\\beta U}}{(k+1)!}} \\cdot e^{-U} = \\\\\n",
      "e^{-U/s - \\beta U - U} \\cdot \\beta U \\cdot \\sum_{k=0}^{\\infty}{\\frac{(\\beta U^2 / s)^k }{(k+1)(k!)^2} } = \\\\\n",
      "e^{-U(1+\\frac{1}{s}+\\beta)} \\sqrt{s \\beta} BesselI\\Big(1, 2 U \\sqrt{\\frac{\\beta}{s}}\\Big)\n",
      "$$"
     ]
    },
    {
     "cell_type": "markdown",
     "metadata": {},
     "source": [
      "A reasonable approximation where $\\beta U$ is small is:\n",
      "$$\n",
      "q = e^{-U/s - \\beta U - U} \\cdot \\beta U \\cdot \\sum_{k=0}^{\\infty}{\\frac{(\\beta U^2 / s)^k }{(k+1)(k!)^2} } = \\\\\n",
      "e^{-U/s - \\beta U - U} \\cdot \\beta U + o((\\beta U)^2)\n",
      "$$"
     ]
    },
    {
     "cell_type": "code",
     "collapsed": false,
     "input": [
      "from scipy.special import iv\n",
      "q1 = lambda U,s,beta: exp(-U * (1 + 1/s + beta)) * sqrt(s * beta) * iv(1, 2*U*sqrt(beta/s))\n",
      "q2 = lambda U,s,beta: exp(-U * (1 + 1/s + beta)) * beta * U \n",
      "print q1(U,s,beta)\n",
      "print q2(U,s,beta)"
     ],
     "language": "python",
     "metadata": {},
     "outputs": [
      {
       "output_type": "stream",
       "stream": "stdout",
       "text": [
        "7.96487726295e-09\n",
        "7.96487726283e-09\n"
       ]
      }
     ],
     "prompt_number": 6
    },
    {
     "cell_type": "code",
     "collapsed": false,
     "input": [
      "def simulation(N,U,s,beta,G):\n",
      "    dM = del_mut_mat(U,G)\n",
      "    bM = ben_mut_mat(beta,U,G)\n",
      "    S = sel_mat(s,G)\n",
      "    \n",
      "    ## MSB\n",
      "    p = stats.poisson(U/s).pmf(range(G))\n",
      "    \n",
      "    p[1:] = p[:-1]\n",
      "    p[0]  = 0    \n",
      "    #p = S.dot(p)\n",
      "    p = dM.dot(p)\n",
      "    p = bM.dot(p)\n",
      "    return p[0]    \n",
      "print simulation(N,U,s,beta,G), exp(-U/s) * exp(-beta * U) * beta * U"
     ],
     "language": "python",
     "metadata": {},
     "outputs": [
      {
       "output_type": "stream",
       "stream": "stdout",
       "text": [
        "7.9648773735e-09 7.96806385101e-09\n"
       ]
      }
     ],
     "prompt_number": 6
    },
    {
     "cell_type": "code",
     "collapsed": false,
     "input": [
      "N,s,beta,G = 1e6,1e-2,1e-4,10\n",
      "Urange = logspace(-5,-2)\n",
      "y1 = [q1(U_,s,beta) for U_ in Urange]\n",
      "y2 = [q2(U_,s,beta) for U_ in Urange]\n",
      "y3 = [simulation(N,U_,s,beta,G) for U_ in Urange]"
     ],
     "language": "python",
     "metadata": {},
     "outputs": [],
     "prompt_number": 15
    },
    {
     "cell_type": "code",
     "collapsed": false,
     "input": [
      "fig,ax1 = subplots(1,1, figsize=(10,4))\n",
      "ax1.plot(Urange, y1, color='r', ls='--', marker='o', label='exact')\n",
      "ax1.plot(Urange, y2, color='b', ls='--', marker='v', markersize=10, fillstyle='none', label='approx')\n",
      "ax1.plot(Urange, y3, color='k', ls='-', lw=2, label='simulation')\n",
      "xscale('log')\n",
      "yscale('log')\n",
      "xlabel('$U$')\n",
      "ylabel('$q$')\n",
      "legend(loc='upper left');"
     ],
     "language": "python",
     "metadata": {},
     "outputs": [
      {
       "metadata": {},
       "output_type": "display_data",
       "png": "[encoded data removed]",
       "text": [
        "<matplotlib.figure.Figure at 0x402bd90>"
       ]
      }
     ],
     "prompt_number": 16
    },
    {
     "cell_type": "markdown",
     "metadata": {},
     "source": [
      "The probability that there are mutants in the next generation:\n",
      "$$\n",
      "1 - (1 - q)^N\n",
      "$$\n",
      "\n",
      "The waiting time has a Geometric distribution $G(1 - (1 - q)^N)$. Therefore the expected waiting time is:\n",
      "$$\n",
      "E[T_w] = \\frac{1}{1 - (1 - q)^N}\n",
      "$$\n",
      "\n",
      "When $Nq < 1$, one can use the approximation \n",
      "$$\n",
      "1 - (1 - q)^N = 1 - \\sum_{k=0}^{k=N}{(-q)^k} = \\\\\n",
      "1 - (-q)^0 - N(-q)^1 + o((Nq)^2)  = \\\\\n",
      "1 - 1 + Nq + o((Nq)^2)  = Nq + o((Nq)^2) \n",
      "$$\n",
      "and therefore\n",
      "$$\n",
      "E[T_w] = \\frac{1}{Nq}\n",
      "$$"
     ]
    },
    {
     "cell_type": "code",
     "collapsed": false,
     "input": [
      "Tw1 = lambda N,U,s,beta: (1 - (1 - q1(U,s,beta))**N)**(-1)\n",
      "Tw2 = lambda N,U,s,beta: (N * q1(U,s,beta))**(-1)\n",
      "print q1(U,s,beta)\n",
      "print Tw1(N,U,s,beta)"
     ],
     "language": "python",
     "metadata": {},
     "outputs": [
      {
       "output_type": "stream",
       "stream": "stdout",
       "text": [
        "7.96487726295e-09\n",
        "126.051875225\n"
       ]
      }
     ],
     "prompt_number": 7
    },
    {
     "cell_type": "markdown",
     "metadata": {},
     "source": [
      "### Comparison with simulations"
     ]
    },
    {
     "cell_type": "code",
     "collapsed": false,
     "input": [
      "def simulation(N,U,s,beta,G):\n",
      "    dM = del_mut_mat(U,G)\n",
      "    bM = ben_mut_mat(beta,U,G)\n",
      "    S = sel_mat(s,G)\n",
      "    MSB_ticks = int(log(0.001) / log(1 - s)) * 5\n",
      "    p = zeros(G)\n",
      "    p[0] = 1.0\n",
      "    ## MSB\n",
      "    t,p = evolve(0, p, lambda t,p: t < MSB_ticks, S, dM, bM, verbose=False) \n",
      "    ## appearance\n",
      "    p[1:] = p[:-1]\n",
      "    p[0]  = 0\n",
      "    t,p = evolve(0, p, lambda t,p: p[0] == 0,     S, dM, bM, verbose=False)\n",
      "    return t\n",
      "print simulation(N,U,s,beta,G)"
     ],
     "language": "python",
     "metadata": {},
     "outputs": [
      {
       "output_type": "stream",
       "stream": "stdout",
       "text": [
        "10\n"
       ]
      }
     ],
     "prompt_number": 9
    },
    {
     "cell_type": "code",
     "collapsed": false,
     "input": [
      "%%cache waiting_time_U.pkl reps N s beta G Urange data\n",
      "\n",
      "N,s,beta,G = 1e6,1e-2,1e-4,10\n",
      "Urange = logspace(-4,-1,100)\n",
      "reps = 10\n",
      "\n",
      "pool.push({'simulation':simulation, 'N':N,'s':s,'beta':beta,'G':G, 'Urange':Urange})\n",
      "data = array(pool.map_sync(lambda _: [simulation(N,U_,s,beta,G) for U_ in Urange[::10]], range(reps)))"
     ],
     "language": "python",
     "metadata": {},
     "outputs": [
      {
       "output_type": "stream",
       "stream": "stdout",
       "text": [
        "[Skipped the cell's code and loaded variables G, N, Urange, beta, data, reps, s from file '/home/yoavram/workspace/mamba/simarba/waiting_time_U.pkl'.]\n"
       ]
      }
     ],
     "prompt_number": 75
    },
    {
     "cell_type": "code",
     "collapsed": false,
     "input": [
      "y1 = [Tw1(N,U_,s,beta) for U_ in Urange]\n",
      "y2 = [Tw2(N,U_,s,beta) for U_ in Urange]\n",
      "\n",
      "meany = data.mean(axis=0)\n",
      "semy  = data.std(axis=0, ddof=1)\n",
      "semy  = semy / sqrt(data.shape[0])"
     ],
     "language": "python",
     "metadata": {},
     "outputs": [],
     "prompt_number": 76
    },
    {
     "cell_type": "code",
     "collapsed": false,
     "input": [
      "errorbar(Urange[::10], meany, yerr=semy, color='k', marker='o', ls='none', label='simulation')\n",
      "plot(Urange, y1, color='r', ls='--', label='exact')\n",
      "plot(Urange, y2, color='b', ls='--', label='exact')\n",
      "xscale('log')\n",
      "yscale('log')\n",
      "xlabel('$U$')\n",
      "ylabel('$T_w$')\n",
      "legend(loc='upper center');"
     ],
     "language": "python",
     "metadata": {},
     "outputs": [
      {
       "metadata": {},
       "output_type": "display_data",
       "png": "[encoded data removed]",
       "text": [
        "<matplotlib.figure.Figure at 0x624cc10>"
       ]
      }
     ],
     "prompt_number": 79
    },
    {
     "cell_type": "markdown",
     "metadata": {},
     "source": [
      "## Fixation probability"
     ]
    },
    {
     "cell_type": "markdown",
     "metadata": {},
     "source": [
      "Assuming the mutant appeared in a single copy it's fixation probability is:\n",
      "$$\n",
      "p_{fix} = \\frac{1-e^{-2c}}{1-e^{-2Nc}} \\\\\n",
      "c = \\frac{s}{1-s}\n",
      "$$\n"
     ]
    },
    {
     "cell_type": "code",
     "collapsed": false,
     "input": [
      "pfix = lambda N,U,s,beta: (1-exp(-2*s))/(1-exp(-2*N*s))\n",
      "pfix(1e2,U,s,beta), pfix(1e8,U,s,beta)"
     ],
     "language": "python",
     "metadata": {},
     "outputs": [
      {
       "metadata": {},
       "output_type": "pyout",
       "prompt_number": 6,
       "text": [
        "(0.18126924729564195, 0.18126924692201818)"
       ]
      }
     ],
     "prompt_number": 6
    },
    {
     "cell_type": "markdown",
     "metadata": {},
     "source": [
      "### Comparison with simulations"
     ]
    },
    {
     "cell_type": "code",
     "collapsed": false,
     "input": [
      "def simulation(N,U,s,beta,G):\n",
      "    dM = del_mut_mat(U,G)\n",
      "    bM = ben_mut_mat(beta,U,G)\n",
      "    S  = sel_mat(s,G)\n",
      "    #MSB_ticks = int(log(0.001) / log(1 - s)) * 5\n",
      "    #p = zeros(G)\n",
      "    #p[0] = 1.0\n",
      "    \n",
      "    ## MSB\n",
      "    #t,p = evolve(0, p, lambda t,p: t < MSB_ticks, S, dM, bM, verbose=False) \n",
      "    p = stats.poisson(U/s).pmf(range(G))\n",
      "    \n",
      "    ## appearance\n",
      "    p[1:] = p[:-1]\n",
      "    assert p[0] == p[1]\n",
      "    p[0]  = 1./N\n",
      "    p[1] -= 1./N\n",
      "    \n",
      "    ## fixation\n",
      "    t,p = evolve(0, p, lambda t,p: 0 < p[0] < 0.99, S, dM, bM, verbose=False)\n",
      "    return p[0] > 0, t\n",
      "print simulation(N,U,s,beta,G)"
     ],
     "language": "python",
     "metadata": {},
     "outputs": [
      {
       "output_type": "stream",
       "stream": "stdout",
       "text": [
        "(False, 2)\n"
       ]
      }
     ],
     "prompt_number": 75
    },
    {
     "cell_type": "code",
     "collapsed": false,
     "input": [
      "%%cache fixation_s.pkl reps N U beta G srange data --force\n",
      "N,U,beta,G = 1e3,1e-4,1e-4,10\n",
      "reps = 500\n",
      "srange = linspace(1e-3,1e-1,100)\n",
      "\n",
      "pool.push({'simulation':simulation, 'N':N,'U':U,'beta':beta,'G':G, 'srange':srange})\n",
      "data = array(pool.map_sync(lambda _: [simulation(N,U,s_,beta,G) for s_ in srange[::10]], range(reps)))"
     ],
     "language": "python",
     "metadata": {},
     "outputs": [
      {
       "output_type": "stream",
       "stream": "stdout",
       "text": [
        "[Saved variables G, N, U, beta, data, reps, srange to file '/home/yoavram/workspace/mamba/simarba/fixation_s.pkl'.]\n"
       ]
      }
     ],
     "prompt_number": 54
    },
    {
     "cell_type": "code",
     "collapsed": false,
     "input": [
      "y1 = [pfix(N,U,s_,beta) for s_ in srange]\n",
      "y2 = [2*s_ for s_ in srange]\n",
      "\n",
      "meany = data[:,:,0].mean(axis=0)\n",
      "semy  = data[:,:,0].std(axis=0, ddof=1)\n",
      "semy  = semy / sqrt(data.shape[0])"
     ],
     "language": "python",
     "metadata": {},
     "outputs": [],
     "prompt_number": 55
    },
    {
     "cell_type": "code",
     "collapsed": false,
     "input": [
      "errorbar(srange[::10], meany, yerr=semy, color='k', marker='o', ls='none', label='simulation')\n",
      "plot(srange, y1, color='r', ls='--', label='exact')\n",
      "plot(srange, y2, color='b', ls='--', label='approx')\n",
      "#xscale('log')\n",
      "#yscale('log')\n",
      "xlabel('$s$')\n",
      "ylabel('$p_{fix}$')\n",
      "legend(loc='lower right');"
     ],
     "language": "python",
     "metadata": {},
     "outputs": [
      {
       "metadata": {},
       "output_type": "display_data",
       "png": "[encoded data removed]",
       "text": [
        "<matplotlib.figure.Figure at 0x2edcc10>"
       ]
      }
     ],
     "prompt_number": 56
    },
    {
     "cell_type": "code",
     "collapsed": false,
     "input": [
      "%%cache fixation_N.pkl reps s U beta G Nrange data --force\n",
      "s,U,beta,G = 0.01,1e-4,1e-4,10\n",
      "reps = 100\n",
      "Nrange = logspace(2,4,100)\n",
      "\n",
      "pool.push({'simulation':simulation, 's':s,'U':U,'beta':beta,'G':G, 'Nrange':Nrange})\n",
      "data = array(pool.map_sync(lambda _: [simulation(N_,U,s,beta,G) for N_ in Nrange[::10]], range(reps)))"
     ],
     "language": "python",
     "metadata": {},
     "outputs": [
      {
       "output_type": "stream",
       "stream": "stdout",
       "text": [
        "[Saved variables G, Nrange, U, beta, data, reps, s to file '/home/yoavram/workspace/mamba/simarba/fixation_N.pkl'.]\n"
       ]
      }
     ],
     "prompt_number": 71
    },
    {
     "cell_type": "code",
     "collapsed": false,
     "input": [
      "y1 = [pfix(N_,U,s,beta) for N_ in Nrange]\n",
      "y2 = [2*s for N_ in Nrange]\n",
      "\n",
      "meany = data[:,:,0].mean(axis=0)\n",
      "semy  = data[:,:,0].std(axis=0, ddof=1)\n",
      "semy  = semy / sqrt(data.shape[0])"
     ],
     "language": "python",
     "metadata": {},
     "outputs": [],
     "prompt_number": 72
    },
    {
     "cell_type": "code",
     "collapsed": false,
     "input": [
      "errorbar(Nrange[::10], meany, yerr=semy, color='k', marker='o', ls='none', label='simulation')\n",
      "plot(Nrange, y1, color='r', ls='--', label='exact')\n",
      "#plot(Nrange, y2, color='b', ls='--', label='approx')\n",
      "xscale('log')\n",
      "#yscale('log')\n",
      "xlabel('$N$')\n",
      "ylabel('$p_{fix}$')\n",
      "legend(loc='upper right');"
     ],
     "language": "python",
     "metadata": {},
     "outputs": [
      {
       "metadata": {},
       "output_type": "display_data",
       "png": "[encoded data removed]",
       "text": [
        "<matplotlib.figure.Figure at 0x36cb490>"
       ]
      }
     ],
     "prompt_number": 74
    },
    {
     "cell_type": "code",
     "collapsed": false,
     "input": [
      "data[:,:,0].mean(axis=0)"
     ],
     "language": "python",
     "metadata": {},
     "outputs": [
      {
       "metadata": {},
       "output_type": "pyout",
       "prompt_number": 78,
       "text": [
        "array([ 0.19,  0.14,  0.11,  0.07,  0.04,  0.  ,  0.  ,  0.  ,  0.  ,  0.  ])"
       ]
      }
     ],
     "prompt_number": 78
    },
    {
     "cell_type": "code",
     "collapsed": false,
     "input": [],
     "language": "python",
     "metadata": {},
     "outputs": []
    }
   ],
   "metadata": {}
  }
 ]
}